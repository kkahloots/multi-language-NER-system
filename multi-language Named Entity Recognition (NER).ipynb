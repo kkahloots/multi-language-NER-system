{
 "cells": [
  {
   "cell_type": "code",
   "execution_count": null,
   "metadata": {},
   "outputs": [],
   "source": [
    "!pip install spacy"
   ]
  },
  {
   "cell_type": "code",
   "execution_count": 6,
   "metadata": {},
   "outputs": [],
   "source": [
    "import spacy\n",
    "from tqdm.auto import tqdm\n",
    "\n",
    "# Define a dictionary of supported language codes and their corresponding model names\n",
    "LANGUAGES = {\n",
    "    'ca': 'ca_core_news_sm',  # Catalan\n",
    "    'zh': 'zh_core_web_sm',  # Chinese\n",
    "    'hr': 'hr_core_news_sm',  # Croatian\n",
    "    'da': 'da_core_news_sm',  # Danish\n",
    "    'nl': 'nl_core_news_sm',  # Dutch\n",
    "    'en': 'en_core_web_sm',  # English\n",
    "    'fi': 'fi_core_news_sm',  # Finnish\n",
    "    'fr': 'fr_core_news_sm',  # French\n",
    "    'de': 'de_core_news_sm',  # German\n",
    "    'el': 'el_core_news_sm',  # Greek\n",
    "    'it': 'it_core_news_sm',  # Italian\n",
    "    'ja': 'ja_core_news_sm',  # Japanese\n",
    "    'ko': 'ko_core_news_sm',  # Korean\n",
    "    'lt': 'lt_core_news_sm',  # Lithuanian\n",
    "    'mk': 'mk_core_news_sm',  # Macedonian\n",
    "    'nb': 'nb_core_news_sm',  # Norwegian Bokmål\n",
    "    'pl': 'pl_core_news_sm',  # Polish\n",
    "    'pt': 'pt_core_news_sm',  # Portuguese\n",
    "    'ro': 'ro_core_news_sm',  # Romanian\n",
    "    'ru': 'ru_core_news_sm',  # Russian\n",
    "    'es': 'es_core_news_sm',  # Spanish\n",
    "    'sv': 'sv_core_news_sm',   # Swedish\n",
    "}\n",
    "\n",
    "def multi_lang_ner(text, lang):\n",
    "    # Load the appropriate spaCy model based on the language code\n",
    "    if lang in LANGUAGES:\n",
    "        model_name = LANGUAGES[lang]\n",
    "        if not spacy.util.is_package(model_name):\n",
    "            spacy.cli.download(model_name)\n",
    "        nlp = spacy.load(model_name)\n",
    "    else:\n",
    "        return []\n",
    "\n",
    "    # Process the text with spaCy's NER pipeline\n",
    "    doc = nlp(text)\n",
    "    \n",
    "    # Extract the entities and their types and positions\n",
    "    entities = []\n",
    "    for ent in doc.ents:\n",
    "        entity = {\n",
    "            'text': ent.text,\n",
    "            'type': ent.label_,\n",
    "            'start_pos': ent.start_char,\n",
    "            'end_pos': ent.end_char\n",
    "        }\n",
    "        entities += [entity]\n",
    "    \n",
    "    return entities\n"
   ]
  },
  {
   "cell_type": "code",
   "execution_count": 8,
   "metadata": {},
   "outputs": [
    {
     "name": "stderr",
     "output_type": "stream",
     "text": [
      "  0%|          | 0/22 [00:00<?, ?it/s]\n"
     ]
    },
    {
     "name": "stdout",
     "output_type": "stream",
     "text": [
      "[{'text': 'Khalid Kahloot', 'type': 'PERSON', 'start_pos': 0, 'end_pos': 14}, {'text': 'Budapest', 'type': 'GPE', 'start_pos': 23, 'end_pos': 31}, {'text': 'New York', 'type': 'GPE', 'start_pos': 49, 'end_pos': 57}]\n"
     ]
    }
   ],
   "source": [
    "text = 'Khalid Kahloot is from Budapest, but he works in New York for Cactus Communications.'\n",
    "lang = 'en'\n",
    "entities = multi_lang_ner(text, lang)\n",
    "print(entities)\n"
   ]
  },
  {
   "attachments": {},
   "cell_type": "markdown",
   "metadata": {},
   "source": [
    "# Bonus"
   ]
  },
  {
   "cell_type": "code",
   "execution_count": 10,
   "metadata": {},
   "outputs": [],
   "source": [
    "from spacy import displacy\n",
    "\n",
    "def visualize_ner(text, lang):\n",
    "    # Call the multi_lang_ner() function to extract the entities from the text\n",
    "    entities = multi_lang_ner(text, lang)\n",
    "\n",
    "    # Create a spaCy Doc object from the text\n",
    "    nlp = spacy.load(LANGUAGES[lang])\n",
    "    doc = nlp(text)\n",
    "\n",
    "    # Generate the visualization and display it in Jupyter notebook\n",
    "    colors = {'PERSON': 'yellow', 'ORG': 'orange', 'GPE': 'pink'}\n",
    "    options = {'ents': [ent['type'] for ent in entities], 'colors': colors}\n",
    "    displacy.render(doc, style='ent', options=options, jupyter=True)\n"
   ]
  },
  {
   "cell_type": "code",
   "execution_count": 12,
   "metadata": {},
   "outputs": [
    {
     "name": "stderr",
     "output_type": "stream",
     "text": [
      "  0%|          | 0/22 [00:00<?, ?it/s]\n"
     ]
    },
    {
     "data": {
      "text/html": [
       "<span class=\"tex2jax_ignore\"><div class=\"entities\" style=\"line-height: 2.5; direction: ltr\">\n",
       "<mark class=\"entity\" style=\"background: yellow; padding: 0.45em 0.6em; margin: 0 0.25em; line-height: 1; border-radius: 0.35em;\">\n",
       "    Khalid Kahloot\n",
       "    <span style=\"font-size: 0.8em; font-weight: bold; line-height: 1; border-radius: 0.35em; vertical-align: middle; margin-left: 0.5rem\">PERSON</span>\n",
       "</mark>\n",
       " is from \n",
       "<mark class=\"entity\" style=\"background: pink; padding: 0.45em 0.6em; margin: 0 0.25em; line-height: 1; border-radius: 0.35em;\">\n",
       "    Budapest\n",
       "    <span style=\"font-size: 0.8em; font-weight: bold; line-height: 1; border-radius: 0.35em; vertical-align: middle; margin-left: 0.5rem\">GPE</span>\n",
       "</mark>\n",
       ", but he works in \n",
       "<mark class=\"entity\" style=\"background: pink; padding: 0.45em 0.6em; margin: 0 0.25em; line-height: 1; border-radius: 0.35em;\">\n",
       "    New York\n",
       "    <span style=\"font-size: 0.8em; font-weight: bold; line-height: 1; border-radius: 0.35em; vertical-align: middle; margin-left: 0.5rem\">GPE</span>\n",
       "</mark>\n",
       " for Cactus Communications.</div></span>"
      ],
      "text/plain": [
       "<IPython.core.display.HTML object>"
      ]
     },
     "metadata": {},
     "output_type": "display_data"
    }
   ],
   "source": [
    "text = 'Khalid Kahloot is from Budapest, but he works in New York for Cactus Communications.'\n",
    "lang = 'en'\n",
    "visualize_ner(text, lang)\n"
   ]
  }
 ],
 "metadata": {
  "kernelspec": {
   "display_name": "mlmayn_env",
   "language": "python",
   "name": "python3"
  },
  "language_info": {
   "codemirror_mode": {
    "name": "ipython",
    "version": 3
   },
   "file_extension": ".py",
   "mimetype": "text/x-python",
   "name": "python",
   "nbconvert_exporter": "python",
   "pygments_lexer": "ipython3",
   "version": "3.11.0"
  },
  "orig_nbformat": 4,
  "vscode": {
   "interpreter": {
    "hash": "5e998a31212f4d4a458fa18f12ccce1fd824f38de60ee5e49400ab422dbdce68"
   }
  }
 },
 "nbformat": 4,
 "nbformat_minor": 2
}
